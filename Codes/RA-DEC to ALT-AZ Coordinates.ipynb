{
  "nbformat": 4,
  "nbformat_minor": 0,
  "metadata": {
    "colab": {
      "provenance": []
    },
    "kernelspec": {
      "name": "python3",
      "display_name": "Python 3"
    },
    "language_info": {
      "name": "python"
    }
  },
  "cells": [
    {
      "cell_type": "markdown",
      "source": [
        "# **Celestial Object Tracker**\n",
        "### Converting Right Ascension - Declination (RA - DEC) to Altitude - Azimuth (ALT - AZ) Coordinates\n",
        "\n",
        ">**Some calculation can be done easily using libraries like `astropy`. However, since the final programming language and approach is still unknown, this approach of coding is used. Furthermore, it is beneficial to familiarize with the algorithms used.**"
      ],
      "metadata": {
        "id": "RebMi3K1cTz3"
      }
    },
    {
      "cell_type": "markdown",
      "source": [
        "### Function Definitions\n",
        "\n",
        "First necessary modules and functions are imported. Then some required functions are defined.\n",
        "\n",
        "`date` and `time` functions return a tuple. These values can be simply passed as arguments, in this case. However, since the final programming languange is not known yet, this approach is used."
      ],
      "metadata": {
        "id": "fdHRIAQ5dL8g"
      }
    },
    {
      "cell_type": "code",
      "source": [
        "from datetime import datetime\n",
        "from math import pi, radians, degrees, sin, cos, tan, asin, acos, atan2"
      ],
      "metadata": {
        "id": "-UdHwcVIvIVi"
      },
      "execution_count": 511,
      "outputs": []
    },
    {
      "cell_type": "code",
      "execution_count": 512,
      "metadata": {
        "id": "trgp-IxuGPx2"
      },
      "outputs": [],
      "source": [
        "def date(dd, mm, yyyy):\n",
        "  return (dd, mm, yyyy)"
      ]
    },
    {
      "cell_type": "code",
      "source": [
        "def time(h, min, sec):\n",
        "  return (h, min, sec)"
      ],
      "metadata": {
        "id": "YE6P1B7UGUIx"
      },
      "execution_count": 513,
      "outputs": []
    },
    {
      "cell_type": "markdown",
      "source": [
        "Many functions require times in hours, and angles in degrees. Nevertheless, many resources provide values in hours, minutes, seconds or degrees, arcminutes, arcseconds format. The following function `convert_60_60` is used to convert those values."
      ],
      "metadata": {
        "id": "edylSREDeZiZ"
      }
    },
    {
      "cell_type": "code",
      "source": [
        "def convert_60_60(hours, minutes, seconds, negative=False):\n",
        "  magnitude = float(hours + (minutes / 60) + (seconds / 3600))\n",
        "  signed_magnitude = (-1) ** negative * magnitude\n",
        "  return signed_magnitude"
      ],
      "metadata": {
        "id": "ZCHymxMFBBGs"
      },
      "execution_count": 514,
      "outputs": []
    },
    {
      "cell_type": "markdown",
      "source": [
        "**Julian date** is defined as the number of days elapsed since the 1st of January 4713 BC. The following function `julian_date' calculated the julian date of a given date considering the facts such as leap years, and the switching to the Gregorian calendar in 1582."
      ],
      "metadata": {
        "id": "nsilegauez7b"
      }
    },
    {
      "cell_type": "code",
      "source": [
        "# def julian_date(date):\n",
        "#   d, m, y = date\n",
        "\n",
        "#   years = 4713 + y - 1 # + 1\n",
        "#   leap_years_1 = (4713 // 4) + (1) + (1582 // 4)\n",
        "#   leap_years_2 = (y - 1 - 1579) // 4 - (y - 1 - 1500) // 100 + (y - 1 - 1600) // 400\n",
        "#   leap_years = leap_years_1 + leap_years_2\n",
        "\n",
        "#   days_1 = (leap_years * 366) + ((years - leap_years) * 365) - 12 # + 2\n",
        "#   m_days = [0, 31, 59, 90, 120, 151, 181, 212, 243, 273, 304, 334, 365]\n",
        "#   days_2 = m_days[m - 1] + d\n",
        "#   if (((y % 4 == 0) and (y % 100 != 0)) or (y % 400 == 0)) and m > 2:\n",
        "#     days_2 += 1\n",
        "#   days = days_1 + days_2\n",
        "\n",
        "#   return days # days"
      ],
      "metadata": {
        "id": "USzke2iEJDnd"
      },
      "execution_count": 515,
      "outputs": []
    },
    {
      "cell_type": "markdown",
      "source": [
        "However, since we are mainly interested in the contemporary time period, there is no need for tedious calculations since 4713 BC. Instead, we can implement the following algorithm to easily calculate the Julian date from 2000 CE - 2100 CE. (It might work beyond that range as well, but not guranteed.)"
      ],
      "metadata": {
        "id": "Ng4f8OZUDvx0"
      }
    },
    {
      "cell_type": "code",
      "source": [
        "# This is a simplified version. This will perfectly work in range 2000 - 2100\n",
        "def julian_date(date):\n",
        "  d, m, y = date\n",
        "\n",
        "  years = y - 2000\n",
        "  leap_years = 0\n",
        "  for year in range(2000, y):\n",
        "    if year % 4 == 0: leap_years += 1\n",
        "\n",
        "  days_1 = (leap_years * 366) + ((years - leap_years) * 365)\n",
        "\n",
        "  m_days = [0, 31, 59, 90, 120, 151, 181, 212, 243, 273, 304, 334, 365]\n",
        "  m_days_leap = [0, 31, 60, 91, 121, 152, 182, 213, 244, 274, 305, 335, 366]\n",
        "\n",
        "  if y % 4 == 0:\n",
        "    days_2 = m_days_leap[m - 1]\n",
        "  else:\n",
        "    days_2 = m_days[m - 1]\n",
        "\n",
        "  days = days_1 + days_2 + (d - 1)\n",
        "\n",
        "  return days # days"
      ],
      "metadata": {
        "id": "Kkl7LCot4ohg"
      },
      "execution_count": 516,
      "outputs": []
    },
    {
      "cell_type": "markdown",
      "source": [
        "**Juilan time** is similarly the time elapsed since the reference date in Julian date. Hence, some fraction of a day is added to the Julian date to calculate the Julian time."
      ],
      "metadata": {
        "id": "w87G0y6FfOLo"
      }
    },
    {
      "cell_type": "code",
      "source": [
        "def julian_time(date, time):\n",
        "  h, min, sec = time\n",
        "\n",
        "  jdate = julian_date(date)\n",
        "\n",
        "  hours = (h) + (min / 60) + (sec / 3600)\n",
        "  if h > 12:\n",
        "    hours -= 12\n",
        "\n",
        "  jtime = jdate + (hours / 24)\n",
        "  return jtime  # days"
      ],
      "metadata": {
        "id": "Uot-bAlj7JiR"
      },
      "execution_count": 518,
      "outputs": []
    },
    {
      "cell_type": "markdown",
      "source": [
        ">Note that the units of both Julian date and Julian time is **days**."
      ],
      "metadata": {
        "id": "-H1Nxv1ffnGX"
      }
    },
    {
      "cell_type": "markdown",
      "source": [
        "Here, let's calculate the Julian date and Julian time of the current moment.\n",
        "\n",
        "> Note that they are defined for the date and time at Greenwich.\n",
        "\n",
        "> We later consider our local time and location for further calculations."
      ],
      "metadata": {
        "id": "W5OYYrBUf67J"
      }
    },
    {
      "cell_type": "code",
      "source": [
        "now_ = datetime.utcnow()\n",
        "print(now_)\n",
        "year, month, day = now_.year, now_.month, now_.day\n",
        "hour, minute, second = now_.hour, now_.minute, now_.second\n",
        "\n",
        "date1 = date(day, month, year)\n",
        "time1 = time(hour, minute, second)\n",
        "\n",
        "print(julian_date(date1))\n",
        "print(julian_time(date1, time1))"
      ],
      "metadata": {
        "colab": {
          "base_uri": "https://localhost:8080/"
        },
        "id": "TY174yVgK5WV",
        "outputId": "148f48e6-fac4-4789-b576-98e170720acc"
      },
      "execution_count": 519,
      "outputs": [
        {
          "output_type": "stream",
          "name": "stdout",
          "text": [
            "2024-01-08 17:06:01.165355\n",
            "8773\n",
            "8773.212511574075\n"
          ]
        }
      ]
    },
    {
      "cell_type": "markdown",
      "source": [
        "**Sidereal time** is the time used in astronomical purposes. It differs from what we use normally by only a small amount in short run. This closely corresponds to the precision of Earth's axis (period: approx. 26,000 years) and the Earth having a day of 23h 56min 04sec, not exactly 24 hours."
      ],
      "metadata": {
        "id": "D6NHcbU0gTeb"
      }
    },
    {
      "cell_type": "markdown",
      "source": [
        "**GMST** stands for Greenwich Mean Sidereal Time. Here with this function `gmst` we calculate the GMST. (i.e., sidereal time at Greenwich)"
      ],
      "metadata": {
        "id": "M8OvYpVag5fM"
      }
    },
    {
      "cell_type": "code",
      "source": [
        "def gmst(date, time):\n",
        "  d_tt = julian_time(date, time) # - 2451545.0\n",
        "  t = d_tt / 36525.0\n",
        "  gmst_ = 280.46061837 + (360.98564736629 * d_tt) + (0.000387933 * (t ** 2)) - ((t ** 3) / 38710000.0)\n",
        "  gmst_ = gmst_ % 360 # degrees\n",
        "  gmst_ = gmst_ / (360 / 24)  # hours\n",
        "  return gmst_"
      ],
      "metadata": {
        "id": "XIohEctALHEQ"
      },
      "execution_count": 520,
      "outputs": []
    },
    {
      "cell_type": "code",
      "source": [
        "print(gmst(date1, time1))"
      ],
      "metadata": {
        "colab": {
          "base_uri": "https://localhost:8080/"
        },
        "id": "Cm3llWDDNsmc",
        "outputId": "4c47c871-6f3d-4b90-ab93-a78ad69df08b"
      },
      "execution_count": 521,
      "outputs": [
        {
          "output_type": "stream",
          "name": "stdout",
          "text": [
            "0.2839075569063425\n"
          ]
        }
      ]
    },
    {
      "cell_type": "markdown",
      "source": [
        "Here, now we start considering our local position on the Earth. We can use the GPS coordinates for specifying our location as latitude and longitude.\n",
        "\n",
        "> Note that North latitudes and East longitudes have positive values, while South latitudes and West longitudes have negative values."
      ],
      "metadata": {
        "id": "9aWhCABrhJ44"
      }
    },
    {
      "cell_type": "code",
      "source": [
        "def location(latitude, longitude):\n",
        "  return (latitude, longitude)"
      ],
      "metadata": {
        "id": "1eUECDY0NweF"
      },
      "execution_count": 522,
      "outputs": []
    },
    {
      "cell_type": "markdown",
      "source": [
        "**λ_h** is a measure of the longitudal difference between the current location of the observer and Greenwich. This is measured in hours.\n"
      ],
      "metadata": {
        "id": "an5q5e0ohmbb"
      }
    },
    {
      "cell_type": "code",
      "source": [
        "def lambda_h(location):\n",
        "  return float(location[1] / 360 * 24) # hours"
      ],
      "metadata": {
        "id": "zgtz_fEqPSvM"
      },
      "execution_count": 523,
      "outputs": []
    },
    {
      "cell_type": "markdown",
      "source": [
        "**LMST** stand for Local Mean Sidereal Time. Here, now we consider our actual location on Earth, and calculate the sidereal time corresponds to that location.\n",
        "\n",
        "LMST = GMST + λ_h"
      ],
      "metadata": {
        "id": "g89x9W6RiAgs"
      }
    },
    {
      "cell_type": "code",
      "source": [
        "def lmst(date, time, location):\n",
        "  gmst_ = gmst(date, time)\n",
        "  l_h = lambda_h(location)\n",
        "  lmst_ = (gmst_ + l_h) % 24\n",
        "  return lmst_ # hours"
      ],
      "metadata": {
        "id": "A2b0_a_jPlsZ"
      },
      "execution_count": 524,
      "outputs": []
    },
    {
      "cell_type": "markdown",
      "source": [
        "Let's do some examples. Here we calculate the local mean sidereal times of Colombo and Kurunegala. We need the GPS coordinates of the location. (Actually, only the longitude value is needed to calculate LMST.)"
      ],
      "metadata": {
        "id": "Iek6PLsnic4R"
      }
    },
    {
      "cell_type": "code",
      "source": [
        "location_colombo = location(6.9271, 79.8612)\n",
        "print(location_colombo)\n",
        "print(lmst(date1, time1, location_colombo))"
      ],
      "metadata": {
        "colab": {
          "base_uri": "https://localhost:8080/"
        },
        "id": "8mCXgN2YP6Jp",
        "outputId": "64b8d36a-0b53-4839-a84e-aed45719fad3"
      },
      "execution_count": 525,
      "outputs": [
        {
          "output_type": "stream",
          "name": "stdout",
          "text": [
            "(6.9271, 79.8612)\n",
            "5.607987556906342\n"
          ]
        }
      ]
    },
    {
      "cell_type": "code",
      "source": [
        "location_kurunegala = location(7.4818, 80.3609)\n",
        "print(location_kurunegala)\n",
        "print(lmst(date1, time1, location_kurunegala))"
      ],
      "metadata": {
        "colab": {
          "base_uri": "https://localhost:8080/"
        },
        "id": "ui576oujCbs3",
        "outputId": "d60cbb93-b773-4660-f695-c0a9a1adee16"
      },
      "execution_count": 526,
      "outputs": [
        {
          "output_type": "stream",
          "name": "stdout",
          "text": [
            "(7.4818, 80.3609)\n",
            "5.641300890239676\n"
          ]
        }
      ]
    },
    {
      "cell_type": "markdown",
      "source": [
        ">**The results from the code up to this point match to the results in the Internet. Hence, it is highly likely that the code up to this point is correct.**"
      ],
      "metadata": {
        "id": "fm4mQUrbkViU"
      }
    },
    {
      "cell_type": "markdown",
      "source": [
        "RA - DEC coordinated have two values, namely the RA (Right Ascension) and DEC (Declination) values."
      ],
      "metadata": {
        "id": "oVSwynMrivMa"
      }
    },
    {
      "cell_type": "code",
      "source": [
        "def ra_dec_coordinate(ra, dec):\n",
        "  return (ra, dec)  # hours, degrees"
      ],
      "metadata": {
        "id": "hMNKGNhCQKIs"
      },
      "execution_count": 527,
      "outputs": []
    },
    {
      "cell_type": "markdown",
      "source": [
        "Let's do an example for the brightest star in the night sky, Sirius.\n",
        "\n",
        "> Note that we have to find the RA and DEC values from the internet or any other resource."
      ],
      "metadata": {
        "id": "Rw9FbX0ci9n1"
      }
    },
    {
      "cell_type": "code",
      "source": [
        "sirius = ra_dec_coordinate(convert_60_60(6, 45, 9), convert_60_60(16, 48, 52, negative=True))\n",
        "print(sirius)"
      ],
      "metadata": {
        "colab": {
          "base_uri": "https://localhost:8080/"
        },
        "id": "8O2FHdizB5An",
        "outputId": "5674ec03-efde-47d6-c5dd-12d8dcb5962c"
      },
      "execution_count": 528,
      "outputs": [
        {
          "output_type": "stream",
          "name": "stdout",
          "text": [
            "(6.7525, -16.814444444444444)\n"
          ]
        }
      ]
    },
    {
      "cell_type": "markdown",
      "source": [
        "**Hour angle** measures the difference in the right ascension time of any stellar object depending on the current location."
      ],
      "metadata": {
        "id": "6v4V4dSzjTgn"
      }
    },
    {
      "cell_type": "code",
      "source": [
        "def hour_angle(date, time, location, ra_dec):\n",
        "  lst = lmst(date, time, location)  # hours\n",
        "  ra = ra_dec[0]  # hours\n",
        "  ha_ = lst - ra\n",
        "\n",
        "  if ha_ < 0: ha_ = ha_ + 24\n",
        "\n",
        "  return ha_  # hours"
      ],
      "metadata": {
        "id": "gKzP0gjLCNIG"
      },
      "execution_count": 529,
      "outputs": []
    },
    {
      "cell_type": "markdown",
      "source": [
        ">**For a keen observer, it might be visible that these concepts can be simplified further, because *λ_h* and *hour angle* kind of do the same thing.Since we are adding and subtracting those values, one might be able to simplify the algorithm, at the cost of loosing the readbility.**"
      ],
      "metadata": {
        "id": "KXiPELNskrjr"
      }
    },
    {
      "cell_type": "markdown",
      "source": [
        "***The following is the most important function.***\n",
        "\n",
        "The function `radec_to_altaz` converts the RA - DEC coordinates to local ALT - AZ coordinates.\n",
        "\n",
        "> It should be noted that several resources give slighlty different algorithms and the calculations done using the currently implemented algorithm might not be the best or even correct for some objects."
      ],
      "metadata": {
        "id": "oY23U2LDjfQb"
      }
    },
    {
      "cell_type": "code",
      "source": [
        "# def radec_to_altaz(date, time, location, ra_dec):\n",
        "#   ha = hour_angle(date, time, location, ra_dec) # hours\n",
        "#   ha = ha * (2 * pi / 24) # radians\n",
        "#   lat = location[0] # degrees\n",
        "#   lat = radians(lat)  # radians\n",
        "\n",
        "#   ra, dec = ra_dec  # hours, hours\n",
        "#   # dec = pi - dec\n",
        "#   ra, dec = ra * (2 * pi / 24), dec * (2 * pi / 24) # radians, radians\n",
        "\n",
        "#   altitude = asin(sin(dec) * sin(lat) + cos(dec) * cos(lat) * cos(ha))  # radians\n",
        "#   azimuth = asin(-1 * sin(ha) * cos(dec) / cos(altitude)) # radians\n",
        "\n",
        "#   # altitude = max(0, altitude)\n",
        "#   azimuth = azimuth if ha >= 12 else 2 * pi - azimuth\n",
        "\n",
        "#   return (degrees(altitude), degrees(azimuth))"
      ],
      "metadata": {
        "id": "m_4x9VlaE0qk"
      },
      "execution_count": 530,
      "outputs": []
    },
    {
      "cell_type": "code",
      "source": [
        "def radec_to_altaz(date, time, location, ra_dec):\n",
        "  ha = hour_angle(date, time, location, ra_dec) # hours\n",
        "  ha = ha * (2 * pi / 24) # radians\n",
        "\n",
        "  lat = location[0] # degrees\n",
        "  lat = radians(lat)  # radians\n",
        "\n",
        "  ra, dec = ra_dec  # hours, degrees\n",
        "  ra, dec = ra * (2 * pi / 24), radians(dec) # radians, radians\n",
        "\n",
        "  altitude = asin(sin(dec) * sin(lat) + cos(dec) * cos(lat) * cos(ha))  # radians\n",
        "  azimuth = acos((sin(dec) - sin(altitude) * sin(lat)) / (cos(altitude) * cos(lat)))  # radians\n",
        "\n",
        "  if sin(ha) >= 0:\n",
        "    azimuth = 2 * pi - azimuth\n",
        "\n",
        "  return (degrees(altitude), degrees(azimuth))"
      ],
      "metadata": {
        "id": "S365bL1dmw0t"
      },
      "execution_count": 531,
      "outputs": []
    },
    {
      "cell_type": "markdown",
      "source": [
        "### Testing the Algorithm"
      ],
      "metadata": {
        "id": "vUoVd_xUgiEf"
      }
    },
    {
      "cell_type": "markdown",
      "source": [
        "Let's see what is the ALT - AZ coordinate of Sirius. This value depends on the current location and time."
      ],
      "metadata": {
        "id": "px0OcwsdkB7r"
      }
    },
    {
      "cell_type": "code",
      "source": [
        "sirius_altaz = radec_to_altaz(date1, time1, location_kurunegala, sirius)\n",
        "print(sirius_altaz)"
      ],
      "metadata": {
        "colab": {
          "base_uri": "https://localhost:8080/"
        },
        "id": "y7L-jx5NGJJj",
        "outputId": "df98d133-fcd5-40e4-e347-f4814f8ba744"
      },
      "execution_count": 532,
      "outputs": [
        {
          "output_type": "stream",
          "name": "stdout",
          "text": [
            "(60.639490546986096, 145.94522122021576)\n"
          ]
        }
      ]
    },
    {
      "cell_type": "markdown",
      "source": [
        "Some more examples to test the algorithm."
      ],
      "metadata": {
        "id": "0Lmgalg1kJt0"
      }
    },
    {
      "cell_type": "code",
      "source": [
        "the_sun = ra_dec_coordinate(convert_60_60(19, 17, 1), convert_60_60(22, 15, 31, negative=True))\n",
        "print(the_sun)\n",
        "the_sun_altaz = radec_to_altaz(date1, time1, location_kurunegala, the_sun)\n",
        "print(the_sun_altaz)"
      ],
      "metadata": {
        "colab": {
          "base_uri": "https://localhost:8080/"
        },
        "id": "dRzchvDsHOQ7",
        "outputId": "c992a97b-0c27-4436-9f62-9110e8630d73"
      },
      "execution_count": 533,
      "outputs": [
        {
          "output_type": "stream",
          "name": "stdout",
          "text": [
            "(19.283611111111114, -22.25861111111111)\n",
            "(-62.05650798090731, 235.4102883127599)\n"
          ]
        }
      ]
    },
    {
      "cell_type": "code",
      "source": [
        "jupiter = ra_dec_coordinate(convert_60_60(2, 13, 50), convert_60_60(12, 13, 30))\n",
        "print(jupiter)\n",
        "jupiter_altaz = radec_to_altaz(date1, time1, location_kurunegala, jupiter)\n",
        "print(jupiter_altaz)"
      ],
      "metadata": {
        "colab": {
          "base_uri": "https://localhost:8080/"
        },
        "id": "SYLDLdADJp8j",
        "outputId": "22a55928-f7fa-480f-e74c-4efbeeb3c086"
      },
      "execution_count": 534,
      "outputs": [
        {
          "output_type": "stream",
          "name": "stdout",
          "text": [
            "(2.2305555555555556, 12.225)\n",
            "(39.43963041940236, 279.7012950941959)\n"
          ]
        }
      ]
    },
    {
      "cell_type": "code",
      "source": [
        "deneb = ra_dec_coordinate(convert_60_60(20, 41, 26), convert_60_60(45, 16, 49))\n",
        "print(deneb)\n",
        "deneb_altaz = radec_to_altaz(date1, time1, location_kurunegala, deneb)\n",
        "print(deneb_altaz)"
      ],
      "metadata": {
        "colab": {
          "base_uri": "https://localhost:8080/"
        },
        "id": "a0-wa6MIPhr0",
        "outputId": "fd785b4d-17ec-4851-aec2-3ea55d2c2f1c"
      },
      "execution_count": 535,
      "outputs": [
        {
          "output_type": "stream",
          "name": "stdout",
          "text": [
            "(20.690555555555555, 45.280277777777776)\n",
            "(-23.227784290747582, 326.744667491315)\n"
          ]
        }
      ]
    },
    {
      "cell_type": "code",
      "source": [
        "polaris = ra_dec_coordinate(convert_60_60(2, 31, 49), convert_60_60(89, 15, 51))\n",
        "print(polaris)\n",
        "polaris_altaz = radec_to_altaz(date1, time1, location_kurunegala, polaris)\n",
        "print(polaris_altaz)"
      ],
      "metadata": {
        "colab": {
          "base_uri": "https://localhost:8080/"
        },
        "id": "eb5no6DyXt5q",
        "outputId": "7862fdb1-b276-4dff-9792-689dea09dbf3"
      },
      "execution_count": 536,
      "outputs": [
        {
          "output_type": "stream",
          "name": "stdout",
          "text": [
            "(2.5302777777777776, 89.26416666666667)\n",
            "(7.986435768194149, 359.4595508154153)\n"
          ]
        }
      ]
    },
    {
      "cell_type": "code",
      "source": [
        "alpheratz = ra_dec_coordinate(convert_60_60(0, 8, 23), convert_60_60(29, 5, 26))\n",
        "print(alpheratz)\n",
        "alpheratz_altaz = radec_to_altaz(date1, time1, location_kurunegala, alpheratz)\n",
        "print(alpheratz_altaz)"
      ],
      "metadata": {
        "colab": {
          "base_uri": "https://localhost:8080/"
        },
        "id": "I2rVa9UIYeF6",
        "outputId": "8aafdcc9-6b06-43ad-efff-e60ad8bb33e4"
      },
      "execution_count": 537,
      "outputs": [
        {
          "output_type": "stream",
          "name": "stdout",
          "text": [
            "(0.13972222222222222, 29.090555555555554)\n",
            "(10.13930740739531, 298.33719046432105)\n"
          ]
        }
      ]
    },
    {
      "cell_type": "markdown",
      "source": [
        ">**The results from the code match to the results in the Internet. Hence, it is highly likely that the code is correct.**"
      ],
      "metadata": {
        "id": "6P3qgwkeDNDM"
      }
    }
  ]
}