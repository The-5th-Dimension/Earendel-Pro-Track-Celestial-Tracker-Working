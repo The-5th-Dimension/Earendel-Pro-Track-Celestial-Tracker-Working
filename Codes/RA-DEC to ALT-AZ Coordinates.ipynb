{
  "cells": [
    {
      "cell_type": "markdown",
      "metadata": {
        "id": "RebMi3K1cTz3"
      },
      "source": [
        "# **Celestial Object Tracker**\n",
        "### Converting Right Ascension - Declination (RA - DEC) to Altitude - Azimuth (ALT - AZ) Coordinates\n",
        "\n",
        ">**Some calculation can be done easily using libraries like `astropy`. However, since the final programming language and approach is still unknown, this approach of coding is used. Furthermore, it is beneficial to familiarize with the algorithms used.**"
      ]
    },
    {
      "cell_type": "markdown",
      "metadata": {
        "id": "fdHRIAQ5dL8g"
      },
      "source": [
        "### Function Definitions\n",
        "\n",
        "First necessary modules and functions are imported. Then some required functions are defined.\n",
        "\n",
        "`date` and `time` functions return a tuple. These values can be simply passed as arguments, in this case. However, since the final programming languange is not known yet, this approach is used."
      ]
    },
    {
      "cell_type": "code",
      "execution_count": 622,
      "metadata": {
        "id": "-UdHwcVIvIVi"
      },
      "outputs": [],
      "source": [
        "from datetime import datetime\n",
        "from math import pi, radians, degrees, sin, cos, tan, asin, acos, atan2"
      ]
    },
    {
      "cell_type": "code",
      "execution_count": 623,
      "metadata": {
        "id": "trgp-IxuGPx2"
      },
      "outputs": [],
      "source": [
        "def date(dd, mm, yyyy):\n",
        "  return (dd, mm, yyyy)"
      ]
    },
    {
      "cell_type": "code",
      "execution_count": 624,
      "metadata": {
        "id": "YE6P1B7UGUIx"
      },
      "outputs": [],
      "source": [
        "def time(h, min, sec):\n",
        "  return (h, min, sec)"
      ]
    },
    {
      "cell_type": "markdown",
      "metadata": {
        "id": "edylSREDeZiZ"
      },
      "source": [
        "Many functions require times in hours, and angles in degrees. Nevertheless, many resources provide values in hours, minutes, seconds or degrees, arcminutes, arcseconds format. The following function `convert_60_60` is used to convert those values."
      ]
    },
    {
      "cell_type": "code",
      "execution_count": 625,
      "metadata": {
        "id": "ZCHymxMFBBGs"
      },
      "outputs": [],
      "source": [
        "def convert_60_60(hours, minutes, seconds, negative=False):\n",
        "  magnitude = float(hours + (minutes / 60) + (seconds / 3600))\n",
        "  signed_magnitude = (-1) ** negative * magnitude\n",
        "  return signed_magnitude"
      ]
    },
    {
      "cell_type": "markdown",
      "metadata": {
        "id": "nsilegauez7b"
      },
      "source": [
        "**Julian date** is defined as the number of days elapsed since the 1st of January 4713 BC. The following function `julian_date' calculated the julian date of a given date considering the facts such as leap years, and the switching to the Gregorian calendar in 1582."
      ]
    },
    {
      "cell_type": "code",
      "execution_count": 626,
      "metadata": {
        "id": "USzke2iEJDnd"
      },
      "outputs": [],
      "source": [
        "def julian_date(date):\n",
        "  d, m, y = date\n",
        "\n",
        "  years = 4713 + y - 1 # + 1\n",
        "  leap_years_1 = (4713 // 4) + (1) + (1582 // 4)\n",
        "  leap_years_2 = (y - 1 - 1579) // 4 - (y - 1 - 1500) // 100 + (y - 1 - 1600) // 400\n",
        "  leap_years = leap_years_1 + leap_years_2\n",
        "\n",
        "  days_1 = (leap_years * 366) + ((years - leap_years) * 365) - 12 # + 2\n",
        "  m_days = [0, 31, 59, 90, 120, 151, 181, 212, 243, 273, 304, 334, 365]\n",
        "  days_2 = m_days[m - 1] + d\n",
        "  if (((y % 4 == 0) and (y % 100 != 0)) or (y % 400 == 0)) and m > 2:\n",
        "    days_2 += 1\n",
        "  days = days_1 + days_2\n",
        "\n",
        "  return days # days"
      ]
    },
    {
      "cell_type": "markdown",
      "metadata": {
        "id": "w87G0y6FfOLo"
      },
      "source": [
        "**Juilan time** is similarly the time elapsed since the reference date in Julian date. Hence, some fraction of a day is added to the Julian date to calculate the Julian time."
      ]
    },
    {
      "cell_type": "code",
      "execution_count": 627,
      "metadata": {
        "id": "V1BUvCHiKdDh"
      },
      "outputs": [],
      "source": [
        "def julian_time(date, time):\n",
        "  h, min, sec = time\n",
        "\n",
        "  jdate = julian_date(date)\n",
        "\n",
        "  hours = (h) + (min / 60) + (sec / 3600)\n",
        "  if h < 12:\n",
        "    hours += 12\n",
        "\n",
        "  jtime = jdate + (hours / 24)\n",
        "  return jtime  # days"
      ]
    },
    {
      "cell_type": "markdown",
      "metadata": {
        "id": "-H1Nxv1ffnGX"
      },
      "source": [
        ">Note that the units of both Julian date and Julian time is **days**."
      ]
    },
    {
      "cell_type": "markdown",
      "metadata": {
        "id": "W5OYYrBUf67J"
      },
      "source": [
        "Here, let's calculate the Julian date and Julian time of the current moment.\n",
        "\n",
        "> Note that they are defined for the date and time at Greenwich.\n",
        "\n",
        "> We later consider our local time and location for further calculations."
      ]
    },
    {
      "cell_type": "code",
      "execution_count": 628,
      "metadata": {
        "colab": {
          "base_uri": "https://localhost:8080/"
        },
        "id": "TY174yVgK5WV",
        "outputId": "f7655bb6-2e1c-4b5b-9139-979971ea9bf4"
      },
      "outputs": [
        {
          "name": "stdout",
          "output_type": "stream",
          "text": [
            "2460317\n",
            "2460317.958449074\n"
          ]
        }
      ],
      "source": [
        "now_ = datetime.utcnow()\n",
        "year, month, day = now_.year, now_.month, now_.day\n",
        "hour, minute, second = now_.hour, now_.minute, now_.second\n",
        "\n",
        "date1 = date(day, month, year)\n",
        "time1 = time(hour, minute, second)\n",
        "print(julian_date(date1))\n",
        "print(julian_time(date1, time1))"
      ]
    },
    {
      "cell_type": "markdown",
      "metadata": {
        "id": "D6NHcbU0gTeb"
      },
      "source": [
        "**Sidereal time** is the time used in astronomical purposes. It differs from what we use normally by only a small amount in short run. This closely corresponds to the precision of Earth's axis (period: approx. 26,000 years) and the Earth having a day of 23h 56min 04sec, not exactly 24 hours."
      ]
    },
    {
      "cell_type": "markdown",
      "metadata": {
        "id": "M8OvYpVag5fM"
      },
      "source": [
        "**GMST** stands for Greenwich Mean Sidereal Time. Here with this function `gmst` we calculate the GMST. (i.e., sidereal time at Greenwich)"
      ]
    },
    {
      "cell_type": "code",
      "execution_count": 629,
      "metadata": {
        "id": "XIohEctALHEQ"
      },
      "outputs": [],
      "source": [
        "def gmst(date, time):\n",
        "  d_tt = julian_time(date, time) - 2451545.0\n",
        "  t = d_tt / 36525.0\n",
        "  gmst_ = 280.46061837 + (360.98564736629 * d_tt) + (0.000387933 * (t ** 2)) - ((t ** 3) / 38710000.0)\n",
        "  gmst_ = gmst_ % 360 # degrees\n",
        "  gmst_ = gmst_ / (360 / 24)  # hours\n",
        "  return gmst_"
      ]
    },
    {
      "cell_type": "code",
      "execution_count": 630,
      "metadata": {
        "colab": {
          "base_uri": "https://localhost:8080/"
        },
        "id": "Cm3llWDDNsmc",
        "outputId": "12a85a41-36c0-4c79-af8c-4b9e8edef762"
      },
      "outputs": [
        {
          "name": "stdout",
          "output_type": "stream",
          "text": [
            "18.169713154404114\n"
          ]
        }
      ],
      "source": [
        "print(gmst(date1, time1))"
      ]
    },
    {
      "cell_type": "markdown",
      "metadata": {
        "id": "9aWhCABrhJ44"
      },
      "source": [
        "Here, now we start considering our local position on the Earth. We can use the GPS coordinates for specifying our location as latitude and longitude.\n",
        "\n",
        "> Note that North latitudes and East longitudes have positive values, while South latitudes and West longitudes have negative values."
      ]
    },
    {
      "cell_type": "code",
      "execution_count": 631,
      "metadata": {
        "id": "1eUECDY0NweF"
      },
      "outputs": [],
      "source": [
        "def location(latitude, longitude):\n",
        "  return (latitude, longitude)"
      ]
    },
    {
      "cell_type": "markdown",
      "metadata": {
        "id": "an5q5e0ohmbb"
      },
      "source": [
        "**λ_h** is a measure of the longitudal difference between the current location of the observer and Greenwich. This is measured in hours.\n"
      ]
    },
    {
      "cell_type": "code",
      "execution_count": 632,
      "metadata": {
        "id": "zgtz_fEqPSvM"
      },
      "outputs": [],
      "source": [
        "def lambda_h(location):\n",
        "  return float(location[1] / 360 * 24) # hours"
      ]
    },
    {
      "cell_type": "markdown",
      "metadata": {
        "id": "g89x9W6RiAgs"
      },
      "source": [
        "**LMST** stand for Local Mean Sidereal Time. Here, now we consider our actual location on Earth, and calculate the sidereal time corresponds to that location.\n",
        "\n",
        "LMST = GMST + λ_h"
      ]
    },
    {
      "cell_type": "code",
      "execution_count": 633,
      "metadata": {
        "id": "A2b0_a_jPlsZ"
      },
      "outputs": [],
      "source": [
        "def lmst(date, time, location):\n",
        "  gmst_ = gmst(date, time)\n",
        "  l_h = lambda_h(location)\n",
        "  lmst_ = gmst_ + l_h\n",
        "  return lmst_ # hours"
      ]
    },
    {
      "cell_type": "markdown",
      "metadata": {
        "id": "Iek6PLsnic4R"
      },
      "source": [
        "Let's do some examples. Here we calculate the local mean sidereal times of Colombo and Kurunegala. We need the GPS coordinates of the location. (Actually, only the longitude value is needed to calculate LMST.)"
      ]
    },
    {
      "cell_type": "code",
      "execution_count": 634,
      "metadata": {
        "colab": {
          "base_uri": "https://localhost:8080/"
        },
        "id": "8mCXgN2YP6Jp",
        "outputId": "35a6fb93-6a25-489a-fb5a-0c97cec6700a"
      },
      "outputs": [
        {
          "name": "stdout",
          "output_type": "stream",
          "text": [
            "(6.9271, 79.8612)\n",
            "23.493793154404113\n"
          ]
        }
      ],
      "source": [
        "location_colombo = location(6.9271, 79.8612)\n",
        "print(location_colombo)\n",
        "print(lmst(date1, time1, location_colombo))"
      ]
    },
    {
      "cell_type": "code",
      "execution_count": 635,
      "metadata": {
        "colab": {
          "base_uri": "https://localhost:8080/"
        },
        "id": "ui576oujCbs3",
        "outputId": "a4c26421-1645-4f65-8b79-733ad408d565"
      },
      "outputs": [
        {
          "name": "stdout",
          "output_type": "stream",
          "text": [
            "(7.4818, 80.3609)\n",
            "23.52710648773745\n"
          ]
        }
      ],
      "source": [
        "location_kurunegala = location(7.4818, 80.3609)\n",
        "print(location_kurunegala)\n",
        "print(lmst(date1, time1, location_kurunegala))"
      ]
    },
    {
      "cell_type": "markdown",
      "metadata": {
        "id": "fm4mQUrbkViU"
      },
      "source": [
        ">**The results from the Code up to this point matches to the results in the internet. Hence, it is highly likely that the code up to this point is correct.**"
      ]
    },
    {
      "cell_type": "markdown",
      "metadata": {
        "id": "oVSwynMrivMa"
      },
      "source": [
        "RA - DEC coordinated have two values, namely the RA (Right Ascension) and DEC (Declination) values."
      ]
    },
    {
      "cell_type": "code",
      "execution_count": 636,
      "metadata": {
        "id": "hMNKGNhCQKIs"
      },
      "outputs": [],
      "source": [
        "def ra_dec_coordinate(ra, dec):\n",
        "  return (ra, dec)"
      ]
    },
    {
      "cell_type": "markdown",
      "metadata": {
        "id": "Rw9FbX0ci9n1"
      },
      "source": [
        "Let's do an example for the brightest star in the night sky, Sirius.\n",
        "\n",
        "> Note that we have to find the RA and DEC values from the internet or any other resource."
      ]
    },
    {
      "cell_type": "code",
      "execution_count": 637,
      "metadata": {
        "colab": {
          "base_uri": "https://localhost:8080/"
        },
        "id": "8O2FHdizB5An",
        "outputId": "bd00c396-34a7-43c4-ab2b-3465c4fecf62"
      },
      "outputs": [
        {
          "name": "stdout",
          "output_type": "stream",
          "text": [
            "(6.7525, -16.814444444444444)\n"
          ]
        }
      ],
      "source": [
        "sirius = ra_dec_coordinate(convert_60_60(6, 45, 9), convert_60_60(16, 48, 52, negative=True))\n",
        "print(sirius)"
      ]
    },
    {
      "cell_type": "markdown",
      "metadata": {
        "id": "6v4V4dSzjTgn"
      },
      "source": [
        "**Hour angle** measures the difference in the right ascension time of any stellar object depending on the current location."
      ]
    },
    {
      "cell_type": "code",
      "execution_count": 638,
      "metadata": {
        "id": "gKzP0gjLCNIG"
      },
      "outputs": [],
      "source": [
        "def hour_angle(date, time, location, ra_dec):\n",
        "  lst = lmst(date, time, location)\n",
        "  ra = ra_dec[0]\n",
        "  ha_ = lst - ra\n",
        "  if ha_ > 24: ha_ = ha_ - 24\n",
        "  elif ha_ < 0: ha_ = ha_ + 24\n",
        "\n",
        "  return ha_  # hours"
      ]
    },
    {
      "cell_type": "markdown",
      "metadata": {
        "id": "KXiPELNskrjr"
      },
      "source": [
        ">**For a keen observer, it might be visible that these concepts can be simplified further, because *λ_h* and *hour angle* kind of do the same thing.Since we are adding and subtracting those values, one might be able to simplify the algorithm, at the cost of loosing the readbility.**"
      ]
    },
    {
      "cell_type": "markdown",
      "metadata": {
        "id": "oY23U2LDjfQb"
      },
      "source": [
        "***The following is the most important function.***\n",
        "\n",
        "The function `radec_to_altaz` converts the RA - DEC coordinates to local ALT - AZ coordinates.\n",
        "\n",
        "> It should be noted that several resources give slighlty different algorithms and the calculations done using the currently implemented algorithm might not be the best or even correct for some objects."
      ]
    },
    {
      "cell_type": "code",
      "execution_count": 639,
      "metadata": {
        "id": "m_4x9VlaE0qk"
      },
      "outputs": [],
      "source": [
        "# def radec_to_altaz(date, time, location, ra_dec):\n",
        "#   ha = hour_angle(date, time, location, ra_dec) # hours\n",
        "#   ha = ha * (2 * pi / 24) # radians\n",
        "#   lat = location[0] # degrees\n",
        "#   lat = radians(lat)  # radians\n",
        "\n",
        "#   ra, dec = ra_dec  # hours, hours\n",
        "#   # dec = pi - dec\n",
        "#   ra, dec = ra * (2 * pi / 24), dec * (2 * pi / 24) # radians, radians\n",
        "\n",
        "#   altitude = asin(sin(dec) * sin(lat) + cos(dec) * cos(lat) * cos(ha))  # radians\n",
        "#   azimuth = asin(-1 * sin(ha) * cos(dec) / cos(altitude)) # radians\n",
        "\n",
        "#   # altitude = max(0, altitude)\n",
        "#   azimuth = azimuth if ha >= 12 else 2 * pi - azimuth\n",
        "\n",
        "#   return (degrees(altitude), degrees(azimuth))"
      ]
    },
    {
      "cell_type": "code",
      "execution_count": 640,
      "metadata": {
        "id": "S365bL1dmw0t"
      },
      "outputs": [],
      "source": [
        "def radec_to_altaz(date, time, location, ra_dec):\n",
        "  ha = hour_angle(date, time, location, ra_dec) # hours\n",
        "  ha = ha * (2 * pi / 24) # radians\n",
        "\n",
        "  lat = location[0] # degrees\n",
        "  lat = radians(lat)  # radians\n",
        "\n",
        "  ra, dec = ra_dec  # hours, hours\n",
        "  ra, dec = ra * (2 * pi / 24), dec * (2 * pi / 24) # radians, radians\n",
        "\n",
        "  azimuth = atan2(sin(ha), cos(ha) * sin(lat) - tan(dec) * cos(lat))  # radians (-pi - pi)\n",
        "  altitude = asin(sin(dec) * sin(lat) + cos(dec) * cos(lat) * cos(ha))  # radians\n",
        "  # azimuth = azimuth if azimuth >= 0 else azimuth + 2 * pi\n",
        "  azimuth = azimuth + pi  # radians (0 - 2pi)\n",
        "\n",
        "  return (degrees(altitude), degrees(azimuth))"
      ]
    },
    {
      "cell_type": "markdown",
      "metadata": {},
      "source": [
        "### Testing the Algorithm"
      ]
    },
    {
      "cell_type": "markdown",
      "metadata": {
        "id": "px0OcwsdkB7r"
      },
      "source": [
        "Let's see what is the ALT - AZ coordinate of Sirius. This value depends on the current location and time."
      ]
    },
    {
      "cell_type": "code",
      "execution_count": 641,
      "metadata": {
        "colab": {
          "base_uri": "https://localhost:8080/"
        },
        "id": "y7L-jx5NGJJj",
        "outputId": "eea190ea-01eb-4656-ebf5-dc744c7ad32d"
      },
      "outputs": [
        {
          "name": "stdout",
          "output_type": "stream",
          "text": [
            "(12.678374853625604, 162.7177064002603)\n"
          ]
        }
      ],
      "source": [
        "sirius_altaz = radec_to_altaz(date1, time1, location_kurunegala, sirius)\n",
        "print(sirius_altaz)"
      ]
    },
    {
      "cell_type": "markdown",
      "metadata": {
        "id": "0Lmgalg1kJt0"
      },
      "source": [
        "Some more examples to test the algorithm."
      ]
    },
    {
      "cell_type": "code",
      "execution_count": 642,
      "metadata": {
        "colab": {
          "base_uri": "https://localhost:8080/"
        },
        "id": "dRzchvDsHOQ7",
        "outputId": "b365bcf0-a4bc-4b5c-9fbf-7a3697fde6e7"
      },
      "outputs": [
        {
          "name": "stdout",
          "output_type": "stream",
          "text": [
            "(26.899204201609223, 295.5497225508794)\n"
          ]
        }
      ],
      "source": [
        "the_sun = ra_dec_coordinate(convert_60_60(19, 17, 1), convert_60_60(22, 15, 31, negative=True))\n",
        "the_sun_altaz = radec_to_altaz(date1, time1, location_kurunegala, the_sun)\n",
        "print(the_sun_altaz)"
      ]
    },
    {
      "cell_type": "code",
      "execution_count": 643,
      "metadata": {
        "colab": {
          "base_uri": "https://localhost:8080/"
        },
        "id": "SYLDLdADJp8j",
        "outputId": "734bad3a-cc3a-47fe-e7a8-51696b6ea57f"
      },
      "outputs": [
        {
          "name": "stdout",
          "output_type": "stream",
          "text": [
            "(-49.43858346836975, 93.56163947296609)\n"
          ]
        }
      ],
      "source": [
        "jupiter = ra_dec_coordinate(convert_60_60(2, 13, 50), convert_60_60(12, 13, 30))\n",
        "jupiter_altaz = radec_to_altaz(date1, time1, location_kurunegala, jupiter)\n",
        "print(jupiter_altaz)"
      ]
    },
    {
      "cell_type": "code",
      "execution_count": 644,
      "metadata": {
        "colab": {
          "base_uri": "https://localhost:8080/"
        },
        "id": "a0-wa6MIPhr0",
        "outputId": "38a33fec-2702-4ef2-e089-6a822063c915"
      },
      "outputs": [
        {
          "name": "stdout",
          "output_type": "stream",
          "text": [
            "(27.897774579556767, 215.3969153475837)\n"
          ]
        }
      ],
      "source": [
        "deneb = ra_dec_coordinate(convert_60_60(20, 41, 26), convert_60_60(45, 16, 49))\n",
        "deneb_altaz = radec_to_altaz(date1, time1, location_kurunegala, deneb)\n",
        "print(deneb_altaz)"
      ]
    },
    {
      "cell_type": "code",
      "execution_count": 645,
      "metadata": {
        "colab": {
          "base_uri": "https://localhost:8080/"
        },
        "id": "eb5no6DyXt5q",
        "outputId": "62b0c764-41f9-4644-89a3-53c99dc82b49"
      },
      "outputs": [
        {
          "name": "stdout",
          "output_type": "stream",
          "text": [
            "(-15.18373230695713, 8.07040492361578)\n"
          ]
        }
      ],
      "source": [
        "polaris = ra_dec_coordinate(convert_60_60(2, 31, 49), convert_60_60(89, 15, 51))\n",
        "polaris_altaz = radec_to_altaz(date1, time1, location_kurunegala, polaris)\n",
        "print(polaris_altaz)"
      ]
    },
    {
      "cell_type": "code",
      "execution_count": 646,
      "metadata": {
        "colab": {
          "base_uri": "https://localhost:8080/"
        },
        "id": "I2rVa9UIYeF6",
        "outputId": "a0f7dd41-a788-4197-adf1-e5223d0a7155"
      },
      "outputs": [
        {
          "name": "stdout",
          "output_type": "stream",
          "text": [
            "(20.9392472755559, 2.3112095722258883)\n"
          ]
        }
      ],
      "source": [
        "alpheratz = ra_dec_coordinate(convert_60_60(0, 8, 23), convert_60_60(29, 5, 26))\n",
        "alpheratz_altaz = radec_to_altaz(date1, time1, location_kurunegala, alpheratz)\n",
        "print(alpheratz_altaz)"
      ]
    },
    {
      "cell_type": "code",
      "execution_count": 646,
      "metadata": {
        "id": "PHPovEo2Z8-g"
      },
      "outputs": [],
      "source": []
    }
  ],
  "metadata": {
    "colab": {
      "provenance": []
    },
    "kernelspec": {
      "display_name": "Python 3",
      "name": "python3"
    },
    "language_info": {
      "name": "python"
    }
  },
  "nbformat": 4,
  "nbformat_minor": 0
}
